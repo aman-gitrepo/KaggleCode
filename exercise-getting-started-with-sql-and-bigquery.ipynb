{
 "cells": [
  {
   "cell_type": "markdown",
   "id": "935dc3c2",
   "metadata": {
    "papermill": {
     "duration": 0.006601,
     "end_time": "2023-03-21T05:47:13.731475",
     "exception": false,
     "start_time": "2023-03-21T05:47:13.724874",
     "status": "completed"
    },
    "tags": []
   },
   "source": [
    "**This notebook is an exercise in the [SQL](https://www.kaggle.com/learn/intro-to-sql) course.  You can reference the tutorial at [this link](https://www.kaggle.com/dansbecker/getting-started-with-sql-and-bigquery).**\n",
    "\n",
    "---\n"
   ]
  },
  {
   "cell_type": "markdown",
   "id": "7cf7b56b",
   "metadata": {
    "papermill": {
     "duration": 0.004956,
     "end_time": "2023-03-21T05:47:13.741893",
     "exception": false,
     "start_time": "2023-03-21T05:47:13.736937",
     "status": "completed"
    },
    "tags": []
   },
   "source": [
    "# Introduction\n",
    "\n",
    "The first test of your new data exploration skills uses data describing crime in the city of Chicago.\n",
    "\n",
    "Before you get started, run the following cell. It sets up the automated feedback system to review your answers."
   ]
  },
  {
   "cell_type": "code",
   "execution_count": 1,
   "id": "8c436938",
   "metadata": {
    "execution": {
     "iopub.execute_input": "2023-03-21T05:47:13.754512Z",
     "iopub.status.busy": "2023-03-21T05:47:13.753938Z",
     "iopub.status.idle": "2023-03-21T05:47:14.775783Z",
     "shell.execute_reply": "2023-03-21T05:47:14.774518Z"
    },
    "papermill": {
     "duration": 1.031469,
     "end_time": "2023-03-21T05:47:14.778584",
     "exception": false,
     "start_time": "2023-03-21T05:47:13.747115",
     "status": "completed"
    },
    "tags": []
   },
   "outputs": [
    {
     "name": "stdout",
     "output_type": "stream",
     "text": [
      "Using Kaggle's public dataset BigQuery integration.\n",
      "Setup Complete\n"
     ]
    }
   ],
   "source": [
    "# Set up feedack system\n",
    "from learntools.core import binder\n",
    "binder.bind(globals())\n",
    "from learntools.sql.ex1 import *\n",
    "print(\"Setup Complete\")"
   ]
  },
  {
   "cell_type": "markdown",
   "id": "bdd5b4eb",
   "metadata": {
    "papermill": {
     "duration": 0.00521,
     "end_time": "2023-03-21T05:47:14.789379",
     "exception": false,
     "start_time": "2023-03-21T05:47:14.784169",
     "status": "completed"
    },
    "tags": []
   },
   "source": [
    "Use the next code cell to fetch the dataset."
   ]
  },
  {
   "cell_type": "code",
   "execution_count": 2,
   "id": "6e4855c1",
   "metadata": {
    "execution": {
     "iopub.execute_input": "2023-03-21T05:47:14.802847Z",
     "iopub.status.busy": "2023-03-21T05:47:14.801779Z",
     "iopub.status.idle": "2023-03-21T05:47:15.185902Z",
     "shell.execute_reply": "2023-03-21T05:47:15.184726Z"
    },
    "papermill": {
     "duration": 0.393537,
     "end_time": "2023-03-21T05:47:15.188521",
     "exception": false,
     "start_time": "2023-03-21T05:47:14.794984",
     "status": "completed"
    },
    "tags": []
   },
   "outputs": [
    {
     "name": "stdout",
     "output_type": "stream",
     "text": [
      "Using Kaggle's public dataset BigQuery integration.\n"
     ]
    }
   ],
   "source": [
    "from google.cloud import bigquery\n",
    "\n",
    "# Create a \"Client\" object\n",
    "client = bigquery.Client()\n",
    "\n",
    "# Construct a reference to the \"chicago_crime\" dataset\n",
    "dataset_ref = client.dataset(\"chicago_crime\", project=\"bigquery-public-data\")\n",
    "\n",
    "# API request - fetch the dataset\n",
    "dataset = client.get_dataset(dataset_ref)"
   ]
  },
  {
   "cell_type": "markdown",
   "id": "a46ad35c",
   "metadata": {
    "papermill": {
     "duration": 0.005232,
     "end_time": "2023-03-21T05:47:15.199490",
     "exception": false,
     "start_time": "2023-03-21T05:47:15.194258",
     "status": "completed"
    },
    "tags": []
   },
   "source": [
    "# Exercises\n",
    "\n",
    "### 1) Count tables in the dataset\n",
    "\n",
    "How many tables are in the Chicago Crime dataset?"
   ]
  },
  {
   "cell_type": "code",
   "execution_count": 3,
   "id": "3146be4d",
   "metadata": {
    "execution": {
     "iopub.execute_input": "2023-03-21T05:47:15.211882Z",
     "iopub.status.busy": "2023-03-21T05:47:15.211467Z",
     "iopub.status.idle": "2023-03-21T05:47:15.492131Z",
     "shell.execute_reply": "2023-03-21T05:47:15.490765Z"
    },
    "papermill": {
     "duration": 0.289976,
     "end_time": "2023-03-21T05:47:15.494779",
     "exception": false,
     "start_time": "2023-03-21T05:47:15.204803",
     "status": "completed"
    },
    "tags": []
   },
   "outputs": [
    {
     "name": "stdout",
     "output_type": "stream",
     "text": [
      "<google.cloud.bigquery.table.TableListItem object at 0x7f03ce87dfd0>\n"
     ]
    },
    {
     "data": {
      "text/plain": [
       "1"
      ]
     },
     "execution_count": 3,
     "metadata": {},
     "output_type": "execute_result"
    }
   ],
   "source": [
    "# Write the code you need here to figure out the answer\n",
    "tables = list(client.list_tables(dataset))\n",
    "count = 0\n",
    "for table in tables:  \n",
    "    count += 1\n",
    "    print(table)\n",
    "\n",
    "count"
   ]
  },
  {
   "cell_type": "code",
   "execution_count": 4,
   "id": "dc4cd6bc",
   "metadata": {
    "execution": {
     "iopub.execute_input": "2023-03-21T05:47:15.508202Z",
     "iopub.status.busy": "2023-03-21T05:47:15.507830Z",
     "iopub.status.idle": "2023-03-21T05:47:15.516428Z",
     "shell.execute_reply": "2023-03-21T05:47:15.515329Z"
    },
    "papermill": {
     "duration": 0.018235,
     "end_time": "2023-03-21T05:47:15.518834",
     "exception": false,
     "start_time": "2023-03-21T05:47:15.500599",
     "status": "completed"
    },
    "tags": []
   },
   "outputs": [
    {
     "data": {
      "application/javascript": [
       "parent.postMessage({\"jupyterEvent\": \"custom.exercise_interaction\", \"data\": {\"outcomeType\": 1, \"valueTowardsCompletion\": 0.3333333333333333, \"interactionType\": 1, \"questionType\": 1, \"questionId\": \"1_CountTables\", \"learnToolsVersion\": \"0.3.4\", \"failureMessage\": \"\", \"exceptionClass\": \"\", \"trace\": \"\"}}, \"*\")"
      ],
      "text/plain": [
       "<IPython.core.display.Javascript object>"
      ]
     },
     "metadata": {},
     "output_type": "display_data"
    },
    {
     "data": {
      "text/markdown": [
       "<span style=\"color:#33cc33\">Correct</span>"
      ],
      "text/plain": [
       "Correct"
      ]
     },
     "metadata": {},
     "output_type": "display_data"
    }
   ],
   "source": [
    "num_tables = 1  # Store the answer as num_tables and then run this cell\n",
    "\n",
    "# Check your answer\n",
    "q_1.check()"
   ]
  },
  {
   "cell_type": "markdown",
   "id": "fdd11b88",
   "metadata": {
    "papermill": {
     "duration": 0.005743,
     "end_time": "2023-03-21T05:47:15.530639",
     "exception": false,
     "start_time": "2023-03-21T05:47:15.524896",
     "status": "completed"
    },
    "tags": []
   },
   "source": [
    "For a hint or the solution, uncomment the appropriate line below."
   ]
  },
  {
   "cell_type": "code",
   "execution_count": 5,
   "id": "8fbc7c8b",
   "metadata": {
    "execution": {
     "iopub.execute_input": "2023-03-21T05:47:15.544568Z",
     "iopub.status.busy": "2023-03-21T05:47:15.543885Z",
     "iopub.status.idle": "2023-03-21T05:47:15.553204Z",
     "shell.execute_reply": "2023-03-21T05:47:15.551898Z"
    },
    "papermill": {
     "duration": 0.018996,
     "end_time": "2023-03-21T05:47:15.555507",
     "exception": false,
     "start_time": "2023-03-21T05:47:15.536511",
     "status": "completed"
    },
    "tags": []
   },
   "outputs": [
    {
     "data": {
      "application/javascript": [
       "parent.postMessage({\"jupyterEvent\": \"custom.exercise_interaction\", \"data\": {\"interactionType\": 3, \"questionType\": 1, \"questionId\": \"1_CountTables\", \"learnToolsVersion\": \"0.3.4\", \"valueTowardsCompletion\": 0.0, \"failureMessage\": \"\", \"exceptionClass\": \"\", \"trace\": \"\", \"outcomeType\": 4}}, \"*\")"
      ],
      "text/plain": [
       "<IPython.core.display.Javascript object>"
      ]
     },
     "metadata": {},
     "output_type": "display_data"
    },
    {
     "data": {
      "text/markdown": [
       "<span style=\"color:#33cc99\">Solution:</span> \n",
       "```python\n",
       "\n",
       "# List all the tables in the \"chicago_crime\" dataset\n",
       "tables = list(client.list_tables(dataset))\n",
       "\n",
       "# Print number of tables in the dataset\n",
       "print(len(tables))\n",
       "\n",
       "num_tables = 1\n",
       "\n",
       "```"
      ],
      "text/plain": [
       "Solution: \n",
       "```python\n",
       "\n",
       "# List all the tables in the \"chicago_crime\" dataset\n",
       "tables = list(client.list_tables(dataset))\n",
       "\n",
       "# Print number of tables in the dataset\n",
       "print(len(tables))\n",
       "\n",
       "num_tables = 1\n",
       "\n",
       "```"
      ]
     },
     "metadata": {},
     "output_type": "display_data"
    }
   ],
   "source": [
    "#q_1.hint()\n",
    "q_1.solution()"
   ]
  },
  {
   "cell_type": "markdown",
   "id": "22d99055",
   "metadata": {
    "papermill": {
     "duration": 0.006009,
     "end_time": "2023-03-21T05:47:15.567789",
     "exception": false,
     "start_time": "2023-03-21T05:47:15.561780",
     "status": "completed"
    },
    "tags": []
   },
   "source": [
    "### 2) Explore the table schema\n",
    "\n",
    "How many columns in the `crime` table have `TIMESTAMP` data?"
   ]
  },
  {
   "cell_type": "code",
   "execution_count": 6,
   "id": "8939cfcb",
   "metadata": {
    "execution": {
     "iopub.execute_input": "2023-03-21T05:47:15.583781Z",
     "iopub.status.busy": "2023-03-21T05:47:15.582958Z",
     "iopub.status.idle": "2023-03-21T05:47:16.577504Z",
     "shell.execute_reply": "2023-03-21T05:47:16.576159Z"
    },
    "papermill": {
     "duration": 1.006029,
     "end_time": "2023-03-21T05:47:16.580050",
     "exception": false,
     "start_time": "2023-03-21T05:47:15.574021",
     "status": "completed"
    },
    "tags": []
   },
   "outputs": [
    {
     "name": "stderr",
     "output_type": "stream",
     "text": [
      "/opt/conda/lib/python3.7/site-packages/ipykernel_launcher.py:4: UserWarning: Cannot use bqstorage_client if max_results is set, reverting to fetching data with the tabledata.list endpoint.\n",
      "  after removing the cwd from sys.path.\n"
     ]
    },
    {
     "data": {
      "text/html": [
       "<div>\n",
       "<style scoped>\n",
       "    .dataframe tbody tr th:only-of-type {\n",
       "        vertical-align: middle;\n",
       "    }\n",
       "\n",
       "    .dataframe tbody tr th {\n",
       "        vertical-align: top;\n",
       "    }\n",
       "\n",
       "    .dataframe thead th {\n",
       "        text-align: right;\n",
       "    }\n",
       "</style>\n",
       "<table border=\"1\" class=\"dataframe\">\n",
       "  <thead>\n",
       "    <tr style=\"text-align: right;\">\n",
       "      <th></th>\n",
       "      <th>unique_key</th>\n",
       "      <th>case_number</th>\n",
       "      <th>date</th>\n",
       "      <th>block</th>\n",
       "      <th>iucr</th>\n",
       "      <th>primary_type</th>\n",
       "      <th>description</th>\n",
       "      <th>location_description</th>\n",
       "      <th>arrest</th>\n",
       "      <th>domestic</th>\n",
       "      <th>...</th>\n",
       "      <th>ward</th>\n",
       "      <th>community_area</th>\n",
       "      <th>fbi_code</th>\n",
       "      <th>x_coordinate</th>\n",
       "      <th>y_coordinate</th>\n",
       "      <th>year</th>\n",
       "      <th>updated_on</th>\n",
       "      <th>latitude</th>\n",
       "      <th>longitude</th>\n",
       "      <th>location</th>\n",
       "    </tr>\n",
       "  </thead>\n",
       "  <tbody>\n",
       "    <tr>\n",
       "      <th>0</th>\n",
       "      <td>2470</td>\n",
       "      <td>HJ734116</td>\n",
       "      <td>2003-11-02 01:26:00+00:00</td>\n",
       "      <td>006XX E 103RD PL</td>\n",
       "      <td>0110</td>\n",
       "      <td>HOMICIDE</td>\n",
       "      <td>FIRST DEGREE MURDER</td>\n",
       "      <td>BASEMENT</td>\n",
       "      <td>True</td>\n",
       "      <td>True</td>\n",
       "      <td>...</td>\n",
       "      <td>9.0</td>\n",
       "      <td>49.0</td>\n",
       "      <td>01A</td>\n",
       "      <td>1182282.0</td>\n",
       "      <td>1836469.0</td>\n",
       "      <td>2003</td>\n",
       "      <td>2022-08-31 04:51:30+00:00</td>\n",
       "      <td>41.706486</td>\n",
       "      <td>-87.608098</td>\n",
       "      <td>(41.706486077, -87.608098429)</td>\n",
       "    </tr>\n",
       "    <tr>\n",
       "      <th>1</th>\n",
       "      <td>3724</td>\n",
       "      <td>HM509037</td>\n",
       "      <td>2006-07-30 02:52:00+00:00</td>\n",
       "      <td>104XX S STATE ST</td>\n",
       "      <td>0110</td>\n",
       "      <td>HOMICIDE</td>\n",
       "      <td>FIRST DEGREE MURDER</td>\n",
       "      <td>AUTO</td>\n",
       "      <td>False</td>\n",
       "      <td>False</td>\n",
       "      <td>...</td>\n",
       "      <td>9.0</td>\n",
       "      <td>49.0</td>\n",
       "      <td>01A</td>\n",
       "      <td>1178106.0</td>\n",
       "      <td>1835436.0</td>\n",
       "      <td>2006</td>\n",
       "      <td>2022-08-31 04:51:30+00:00</td>\n",
       "      <td>41.703747</td>\n",
       "      <td>-87.623422</td>\n",
       "      <td>(41.703746874, -87.623421862)</td>\n",
       "    </tr>\n",
       "    <tr>\n",
       "      <th>2</th>\n",
       "      <td>2445</td>\n",
       "      <td>HJ698541</td>\n",
       "      <td>2003-10-17 01:36:00+00:00</td>\n",
       "      <td>104XX S INDIANA AVE</td>\n",
       "      <td>0110</td>\n",
       "      <td>HOMICIDE</td>\n",
       "      <td>FIRST DEGREE MURDER</td>\n",
       "      <td>AUTO</td>\n",
       "      <td>False</td>\n",
       "      <td>False</td>\n",
       "      <td>...</td>\n",
       "      <td>9.0</td>\n",
       "      <td>49.0</td>\n",
       "      <td>01A</td>\n",
       "      <td>1179434.0</td>\n",
       "      <td>1835549.0</td>\n",
       "      <td>2003</td>\n",
       "      <td>2022-09-18 04:45:51+00:00</td>\n",
       "      <td>41.704027</td>\n",
       "      <td>-87.618556</td>\n",
       "      <td>(41.704026818, -87.618555581)</td>\n",
       "    </tr>\n",
       "    <tr>\n",
       "      <th>3</th>\n",
       "      <td>2772</td>\n",
       "      <td>HK459752</td>\n",
       "      <td>2004-06-28 07:50:00+00:00</td>\n",
       "      <td>104XX S MICHIGAN AVE</td>\n",
       "      <td>0110</td>\n",
       "      <td>HOMICIDE</td>\n",
       "      <td>FIRST DEGREE MURDER</td>\n",
       "      <td>ALLEY</td>\n",
       "      <td>False</td>\n",
       "      <td>False</td>\n",
       "      <td>...</td>\n",
       "      <td>9.0</td>\n",
       "      <td>49.0</td>\n",
       "      <td>01A</td>\n",
       "      <td>1178886.0</td>\n",
       "      <td>1835813.0</td>\n",
       "      <td>2004</td>\n",
       "      <td>2022-09-18 04:45:51+00:00</td>\n",
       "      <td>41.704764</td>\n",
       "      <td>-87.620554</td>\n",
       "      <td>(41.704763734, -87.620554245)</td>\n",
       "    </tr>\n",
       "    <tr>\n",
       "      <th>4</th>\n",
       "      <td>2312</td>\n",
       "      <td>HJ483963</td>\n",
       "      <td>2003-07-23 09:00:00+00:00</td>\n",
       "      <td>105XX S WENTWORTH ST</td>\n",
       "      <td>0110</td>\n",
       "      <td>HOMICIDE</td>\n",
       "      <td>FIRST DEGREE MURDER</td>\n",
       "      <td>STREET</td>\n",
       "      <td>False</td>\n",
       "      <td>False</td>\n",
       "      <td>...</td>\n",
       "      <td>NaN</td>\n",
       "      <td>NaN</td>\n",
       "      <td>01A</td>\n",
       "      <td>1176810.0</td>\n",
       "      <td>1835237.0</td>\n",
       "      <td>2003</td>\n",
       "      <td>2022-09-18 04:45:51+00:00</td>\n",
       "      <td>41.703230</td>\n",
       "      <td>-87.628174</td>\n",
       "      <td>(41.703230009, -87.628173505)</td>\n",
       "    </tr>\n",
       "  </tbody>\n",
       "</table>\n",
       "<p>5 rows × 22 columns</p>\n",
       "</div>"
      ],
      "text/plain": [
       "   unique_key case_number                      date                 block  \\\n",
       "0        2470    HJ734116 2003-11-02 01:26:00+00:00      006XX E 103RD PL   \n",
       "1        3724    HM509037 2006-07-30 02:52:00+00:00      104XX S STATE ST   \n",
       "2        2445    HJ698541 2003-10-17 01:36:00+00:00   104XX S INDIANA AVE   \n",
       "3        2772    HK459752 2004-06-28 07:50:00+00:00  104XX S MICHIGAN AVE   \n",
       "4        2312    HJ483963 2003-07-23 09:00:00+00:00  105XX S WENTWORTH ST   \n",
       "\n",
       "   iucr primary_type          description location_description  arrest  \\\n",
       "0  0110     HOMICIDE  FIRST DEGREE MURDER             BASEMENT    True   \n",
       "1  0110     HOMICIDE  FIRST DEGREE MURDER                 AUTO   False   \n",
       "2  0110     HOMICIDE  FIRST DEGREE MURDER                 AUTO   False   \n",
       "3  0110     HOMICIDE  FIRST DEGREE MURDER                ALLEY   False   \n",
       "4  0110     HOMICIDE  FIRST DEGREE MURDER               STREET   False   \n",
       "\n",
       "   domestic  ...  ward  community_area  fbi_code  x_coordinate y_coordinate  \\\n",
       "0      True  ...   9.0            49.0       01A     1182282.0    1836469.0   \n",
       "1     False  ...   9.0            49.0       01A     1178106.0    1835436.0   \n",
       "2     False  ...   9.0            49.0       01A     1179434.0    1835549.0   \n",
       "3     False  ...   9.0            49.0       01A     1178886.0    1835813.0   \n",
       "4     False  ...   NaN             NaN       01A     1176810.0    1835237.0   \n",
       "\n",
       "   year                updated_on   latitude  longitude  \\\n",
       "0  2003 2022-08-31 04:51:30+00:00  41.706486 -87.608098   \n",
       "1  2006 2022-08-31 04:51:30+00:00  41.703747 -87.623422   \n",
       "2  2003 2022-09-18 04:45:51+00:00  41.704027 -87.618556   \n",
       "3  2004 2022-09-18 04:45:51+00:00  41.704764 -87.620554   \n",
       "4  2003 2022-09-18 04:45:51+00:00  41.703230 -87.628174   \n",
       "\n",
       "                        location  \n",
       "0  (41.706486077, -87.608098429)  \n",
       "1  (41.703746874, -87.623421862)  \n",
       "2  (41.704026818, -87.618555581)  \n",
       "3  (41.704763734, -87.620554245)  \n",
       "4  (41.703230009, -87.628173505)  \n",
       "\n",
       "[5 rows x 22 columns]"
      ]
     },
     "execution_count": 6,
     "metadata": {},
     "output_type": "execute_result"
    }
   ],
   "source": [
    "# Write the code to figure out the answer\n",
    "table_ref = dataset_ref.table(\"crime\")\n",
    "table = client.get_table(table_ref)\n",
    "client.list_rows(table, max_results=5).to_dataframe()"
   ]
  },
  {
   "cell_type": "code",
   "execution_count": 7,
   "id": "7b681de3",
   "metadata": {
    "execution": {
     "iopub.execute_input": "2023-03-21T05:47:16.595119Z",
     "iopub.status.busy": "2023-03-21T05:47:16.594728Z",
     "iopub.status.idle": "2023-03-21T05:47:16.603577Z",
     "shell.execute_reply": "2023-03-21T05:47:16.602773Z"
    },
    "papermill": {
     "duration": 0.019,
     "end_time": "2023-03-21T05:47:16.605749",
     "exception": false,
     "start_time": "2023-03-21T05:47:16.586749",
     "status": "completed"
    },
    "tags": []
   },
   "outputs": [
    {
     "data": {
      "application/javascript": [
       "parent.postMessage({\"jupyterEvent\": \"custom.exercise_interaction\", \"data\": {\"outcomeType\": 1, \"valueTowardsCompletion\": 0.3333333333333333, \"interactionType\": 1, \"questionType\": 1, \"questionId\": \"2_CountTimestampFields\", \"learnToolsVersion\": \"0.3.4\", \"failureMessage\": \"\", \"exceptionClass\": \"\", \"trace\": \"\"}}, \"*\")"
      ],
      "text/plain": [
       "<IPython.core.display.Javascript object>"
      ]
     },
     "metadata": {},
     "output_type": "display_data"
    },
    {
     "data": {
      "text/markdown": [
       "<span style=\"color:#33cc33\">Correct</span>"
      ],
      "text/plain": [
       "Correct"
      ]
     },
     "metadata": {},
     "output_type": "display_data"
    }
   ],
   "source": [
    "num_timestamp_fields =2 # Put your answer here\n",
    "\n",
    "# Check your answer\n",
    "q_2.check()"
   ]
  },
  {
   "cell_type": "markdown",
   "id": "fda6e2a6",
   "metadata": {
    "papermill": {
     "duration": 0.00656,
     "end_time": "2023-03-21T05:47:16.619130",
     "exception": false,
     "start_time": "2023-03-21T05:47:16.612570",
     "status": "completed"
    },
    "tags": []
   },
   "source": [
    "For a hint or the solution, uncomment the appropriate line below."
   ]
  },
  {
   "cell_type": "code",
   "execution_count": 8,
   "id": "739aaa3c",
   "metadata": {
    "execution": {
     "iopub.execute_input": "2023-03-21T05:47:16.635543Z",
     "iopub.status.busy": "2023-03-21T05:47:16.634347Z",
     "iopub.status.idle": "2023-03-21T05:47:16.643567Z",
     "shell.execute_reply": "2023-03-21T05:47:16.642486Z"
    },
    "papermill": {
     "duration": 0.019921,
     "end_time": "2023-03-21T05:47:16.645899",
     "exception": false,
     "start_time": "2023-03-21T05:47:16.625978",
     "status": "completed"
    },
    "tags": []
   },
   "outputs": [
    {
     "data": {
      "application/javascript": [
       "parent.postMessage({\"jupyterEvent\": \"custom.exercise_interaction\", \"data\": {\"interactionType\": 3, \"questionType\": 1, \"questionId\": \"2_CountTimestampFields\", \"learnToolsVersion\": \"0.3.4\", \"valueTowardsCompletion\": 0.0, \"failureMessage\": \"\", \"exceptionClass\": \"\", \"trace\": \"\", \"outcomeType\": 4}}, \"*\")"
      ],
      "text/plain": [
       "<IPython.core.display.Javascript object>"
      ]
     },
     "metadata": {},
     "output_type": "display_data"
    },
    {
     "data": {
      "text/markdown": [
       "<span style=\"color:#33cc99\">Solution:</span> \n",
       "```python\n",
       "\n",
       "# Construct a reference to the \"crime\" table\n",
       "table_ref = dataset_ref.table(\"crime\")\n",
       "\n",
       "# API request - fetch the table\n",
       "table = client.get_table(table_ref)\n",
       "\n",
       "# Print information on all the columns in the \"crime\" table in the \"chicago_crime\" dataset\n",
       "print(table.schema)\n",
       "\n",
       "num_timestamp_fields = 2\n",
       "\n",
       "```"
      ],
      "text/plain": [
       "Solution: \n",
       "```python\n",
       "\n",
       "# Construct a reference to the \"crime\" table\n",
       "table_ref = dataset_ref.table(\"crime\")\n",
       "\n",
       "# API request - fetch the table\n",
       "table = client.get_table(table_ref)\n",
       "\n",
       "# Print information on all the columns in the \"crime\" table in the \"chicago_crime\" dataset\n",
       "print(table.schema)\n",
       "\n",
       "num_timestamp_fields = 2\n",
       "\n",
       "```"
      ]
     },
     "metadata": {},
     "output_type": "display_data"
    }
   ],
   "source": [
    "#q_2.hint()\n",
    "q_2.solution()"
   ]
  },
  {
   "cell_type": "markdown",
   "id": "f1af4041",
   "metadata": {
    "papermill": {
     "duration": 0.006887,
     "end_time": "2023-03-21T05:47:16.659759",
     "exception": false,
     "start_time": "2023-03-21T05:47:16.652872",
     "status": "completed"
    },
    "tags": []
   },
   "source": [
    "### 3) Create a crime map\n",
    "\n",
    "If you wanted to create a map with a dot at the location of each crime, what are the names of the two fields you likely need to pull out of the `crime` table to plot the crimes on a map?"
   ]
  },
  {
   "cell_type": "code",
   "execution_count": 9,
   "id": "efdcb4be",
   "metadata": {
    "execution": {
     "iopub.execute_input": "2023-03-21T05:47:16.675867Z",
     "iopub.status.busy": "2023-03-21T05:47:16.675456Z",
     "iopub.status.idle": "2023-03-21T05:47:17.425782Z",
     "shell.execute_reply": "2023-03-21T05:47:17.424665Z"
    },
    "papermill": {
     "duration": 0.761296,
     "end_time": "2023-03-21T05:47:17.428325",
     "exception": false,
     "start_time": "2023-03-21T05:47:16.667029",
     "status": "completed"
    },
    "tags": []
   },
   "outputs": [
    {
     "name": "stderr",
     "output_type": "stream",
     "text": [
      "/opt/conda/lib/python3.7/site-packages/ipykernel_launcher.py:4: UserWarning: Cannot use bqstorage_client if max_results is set, reverting to fetching data with the tabledata.list endpoint.\n",
      "  after removing the cwd from sys.path.\n"
     ]
    },
    {
     "data": {
      "text/html": [
       "<div>\n",
       "<style scoped>\n",
       "    .dataframe tbody tr th:only-of-type {\n",
       "        vertical-align: middle;\n",
       "    }\n",
       "\n",
       "    .dataframe tbody tr th {\n",
       "        vertical-align: top;\n",
       "    }\n",
       "\n",
       "    .dataframe thead th {\n",
       "        text-align: right;\n",
       "    }\n",
       "</style>\n",
       "<table border=\"1\" class=\"dataframe\">\n",
       "  <thead>\n",
       "    <tr style=\"text-align: right;\">\n",
       "      <th></th>\n",
       "      <th>unique_key</th>\n",
       "      <th>case_number</th>\n",
       "      <th>date</th>\n",
       "      <th>block</th>\n",
       "      <th>iucr</th>\n",
       "      <th>primary_type</th>\n",
       "      <th>description</th>\n",
       "      <th>location_description</th>\n",
       "      <th>arrest</th>\n",
       "      <th>domestic</th>\n",
       "      <th>...</th>\n",
       "      <th>ward</th>\n",
       "      <th>community_area</th>\n",
       "      <th>fbi_code</th>\n",
       "      <th>x_coordinate</th>\n",
       "      <th>y_coordinate</th>\n",
       "      <th>year</th>\n",
       "      <th>updated_on</th>\n",
       "      <th>latitude</th>\n",
       "      <th>longitude</th>\n",
       "      <th>location</th>\n",
       "    </tr>\n",
       "  </thead>\n",
       "  <tbody>\n",
       "    <tr>\n",
       "      <th>0</th>\n",
       "      <td>2470</td>\n",
       "      <td>HJ734116</td>\n",
       "      <td>2003-11-02 01:26:00+00:00</td>\n",
       "      <td>006XX E 103RD PL</td>\n",
       "      <td>0110</td>\n",
       "      <td>HOMICIDE</td>\n",
       "      <td>FIRST DEGREE MURDER</td>\n",
       "      <td>BASEMENT</td>\n",
       "      <td>True</td>\n",
       "      <td>True</td>\n",
       "      <td>...</td>\n",
       "      <td>9.0</td>\n",
       "      <td>49.0</td>\n",
       "      <td>01A</td>\n",
       "      <td>1182282.0</td>\n",
       "      <td>1836469.0</td>\n",
       "      <td>2003</td>\n",
       "      <td>2022-08-31 04:51:30+00:00</td>\n",
       "      <td>41.706486</td>\n",
       "      <td>-87.608098</td>\n",
       "      <td>(41.706486077, -87.608098429)</td>\n",
       "    </tr>\n",
       "    <tr>\n",
       "      <th>1</th>\n",
       "      <td>3724</td>\n",
       "      <td>HM509037</td>\n",
       "      <td>2006-07-30 02:52:00+00:00</td>\n",
       "      <td>104XX S STATE ST</td>\n",
       "      <td>0110</td>\n",
       "      <td>HOMICIDE</td>\n",
       "      <td>FIRST DEGREE MURDER</td>\n",
       "      <td>AUTO</td>\n",
       "      <td>False</td>\n",
       "      <td>False</td>\n",
       "      <td>...</td>\n",
       "      <td>9.0</td>\n",
       "      <td>49.0</td>\n",
       "      <td>01A</td>\n",
       "      <td>1178106.0</td>\n",
       "      <td>1835436.0</td>\n",
       "      <td>2006</td>\n",
       "      <td>2022-08-31 04:51:30+00:00</td>\n",
       "      <td>41.703747</td>\n",
       "      <td>-87.623422</td>\n",
       "      <td>(41.703746874, -87.623421862)</td>\n",
       "    </tr>\n",
       "    <tr>\n",
       "      <th>2</th>\n",
       "      <td>2445</td>\n",
       "      <td>HJ698541</td>\n",
       "      <td>2003-10-17 01:36:00+00:00</td>\n",
       "      <td>104XX S INDIANA AVE</td>\n",
       "      <td>0110</td>\n",
       "      <td>HOMICIDE</td>\n",
       "      <td>FIRST DEGREE MURDER</td>\n",
       "      <td>AUTO</td>\n",
       "      <td>False</td>\n",
       "      <td>False</td>\n",
       "      <td>...</td>\n",
       "      <td>9.0</td>\n",
       "      <td>49.0</td>\n",
       "      <td>01A</td>\n",
       "      <td>1179434.0</td>\n",
       "      <td>1835549.0</td>\n",
       "      <td>2003</td>\n",
       "      <td>2022-09-18 04:45:51+00:00</td>\n",
       "      <td>41.704027</td>\n",
       "      <td>-87.618556</td>\n",
       "      <td>(41.704026818, -87.618555581)</td>\n",
       "    </tr>\n",
       "    <tr>\n",
       "      <th>3</th>\n",
       "      <td>2772</td>\n",
       "      <td>HK459752</td>\n",
       "      <td>2004-06-28 07:50:00+00:00</td>\n",
       "      <td>104XX S MICHIGAN AVE</td>\n",
       "      <td>0110</td>\n",
       "      <td>HOMICIDE</td>\n",
       "      <td>FIRST DEGREE MURDER</td>\n",
       "      <td>ALLEY</td>\n",
       "      <td>False</td>\n",
       "      <td>False</td>\n",
       "      <td>...</td>\n",
       "      <td>9.0</td>\n",
       "      <td>49.0</td>\n",
       "      <td>01A</td>\n",
       "      <td>1178886.0</td>\n",
       "      <td>1835813.0</td>\n",
       "      <td>2004</td>\n",
       "      <td>2022-09-18 04:45:51+00:00</td>\n",
       "      <td>41.704764</td>\n",
       "      <td>-87.620554</td>\n",
       "      <td>(41.704763734, -87.620554245)</td>\n",
       "    </tr>\n",
       "    <tr>\n",
       "      <th>4</th>\n",
       "      <td>2312</td>\n",
       "      <td>HJ483963</td>\n",
       "      <td>2003-07-23 09:00:00+00:00</td>\n",
       "      <td>105XX S WENTWORTH ST</td>\n",
       "      <td>0110</td>\n",
       "      <td>HOMICIDE</td>\n",
       "      <td>FIRST DEGREE MURDER</td>\n",
       "      <td>STREET</td>\n",
       "      <td>False</td>\n",
       "      <td>False</td>\n",
       "      <td>...</td>\n",
       "      <td>NaN</td>\n",
       "      <td>NaN</td>\n",
       "      <td>01A</td>\n",
       "      <td>1176810.0</td>\n",
       "      <td>1835237.0</td>\n",
       "      <td>2003</td>\n",
       "      <td>2022-09-18 04:45:51+00:00</td>\n",
       "      <td>41.703230</td>\n",
       "      <td>-87.628174</td>\n",
       "      <td>(41.703230009, -87.628173505)</td>\n",
       "    </tr>\n",
       "  </tbody>\n",
       "</table>\n",
       "<p>5 rows × 22 columns</p>\n",
       "</div>"
      ],
      "text/plain": [
       "   unique_key case_number                      date                 block  \\\n",
       "0        2470    HJ734116 2003-11-02 01:26:00+00:00      006XX E 103RD PL   \n",
       "1        3724    HM509037 2006-07-30 02:52:00+00:00      104XX S STATE ST   \n",
       "2        2445    HJ698541 2003-10-17 01:36:00+00:00   104XX S INDIANA AVE   \n",
       "3        2772    HK459752 2004-06-28 07:50:00+00:00  104XX S MICHIGAN AVE   \n",
       "4        2312    HJ483963 2003-07-23 09:00:00+00:00  105XX S WENTWORTH ST   \n",
       "\n",
       "   iucr primary_type          description location_description  arrest  \\\n",
       "0  0110     HOMICIDE  FIRST DEGREE MURDER             BASEMENT    True   \n",
       "1  0110     HOMICIDE  FIRST DEGREE MURDER                 AUTO   False   \n",
       "2  0110     HOMICIDE  FIRST DEGREE MURDER                 AUTO   False   \n",
       "3  0110     HOMICIDE  FIRST DEGREE MURDER                ALLEY   False   \n",
       "4  0110     HOMICIDE  FIRST DEGREE MURDER               STREET   False   \n",
       "\n",
       "   domestic  ...  ward  community_area  fbi_code  x_coordinate y_coordinate  \\\n",
       "0      True  ...   9.0            49.0       01A     1182282.0    1836469.0   \n",
       "1     False  ...   9.0            49.0       01A     1178106.0    1835436.0   \n",
       "2     False  ...   9.0            49.0       01A     1179434.0    1835549.0   \n",
       "3     False  ...   9.0            49.0       01A     1178886.0    1835813.0   \n",
       "4     False  ...   NaN             NaN       01A     1176810.0    1835237.0   \n",
       "\n",
       "   year                updated_on   latitude  longitude  \\\n",
       "0  2003 2022-08-31 04:51:30+00:00  41.706486 -87.608098   \n",
       "1  2006 2022-08-31 04:51:30+00:00  41.703747 -87.623422   \n",
       "2  2003 2022-09-18 04:45:51+00:00  41.704027 -87.618556   \n",
       "3  2004 2022-09-18 04:45:51+00:00  41.704764 -87.620554   \n",
       "4  2003 2022-09-18 04:45:51+00:00  41.703230 -87.628174   \n",
       "\n",
       "                        location  \n",
       "0  (41.706486077, -87.608098429)  \n",
       "1  (41.703746874, -87.623421862)  \n",
       "2  (41.704026818, -87.618555581)  \n",
       "3  (41.704763734, -87.620554245)  \n",
       "4  (41.703230009, -87.628173505)  \n",
       "\n",
       "[5 rows x 22 columns]"
      ]
     },
     "execution_count": 9,
     "metadata": {},
     "output_type": "execute_result"
    }
   ],
   "source": [
    "# Write the code here to explore the data so you can find the answer\n",
    "table_ref = dataset_ref.table(\"crime\")\n",
    "table = client.get_table(table_ref)\n",
    "client.list_rows(table, max_results=5).to_dataframe()"
   ]
  },
  {
   "cell_type": "code",
   "execution_count": 10,
   "id": "07a6b9a4",
   "metadata": {
    "execution": {
     "iopub.execute_input": "2023-03-21T05:47:17.445767Z",
     "iopub.status.busy": "2023-03-21T05:47:17.445097Z",
     "iopub.status.idle": "2023-03-21T05:47:17.452831Z",
     "shell.execute_reply": "2023-03-21T05:47:17.451814Z"
    },
    "papermill": {
     "duration": 0.019054,
     "end_time": "2023-03-21T05:47:17.455142",
     "exception": false,
     "start_time": "2023-03-21T05:47:17.436088",
     "status": "completed"
    },
    "tags": []
   },
   "outputs": [
    {
     "data": {
      "application/javascript": [
       "parent.postMessage({\"jupyterEvent\": \"custom.exercise_interaction\", \"data\": {\"outcomeType\": 1, \"valueTowardsCompletion\": 0.3333333333333333, \"interactionType\": 1, \"questionType\": 2, \"questionId\": \"3_IdentifyFieldsForPlotting\", \"learnToolsVersion\": \"0.3.4\", \"failureMessage\": \"\", \"exceptionClass\": \"\", \"trace\": \"\"}}, \"*\")"
      ],
      "text/plain": [
       "<IPython.core.display.Javascript object>"
      ]
     },
     "metadata": {},
     "output_type": "display_data"
    },
    {
     "data": {
      "text/markdown": [
       "<span style=\"color:#33cc33\">Correct</span>"
      ],
      "text/plain": [
       "Correct"
      ]
     },
     "metadata": {},
     "output_type": "display_data"
    }
   ],
   "source": [
    "fields_for_plotting = [\"latitude\", \"longitude\"] # Put your answers here\n",
    "\n",
    "# Check your answer\n",
    "q_3.check()"
   ]
  },
  {
   "cell_type": "markdown",
   "id": "0bdfee54",
   "metadata": {
    "papermill": {
     "duration": 0.007533,
     "end_time": "2023-03-21T05:47:17.470533",
     "exception": false,
     "start_time": "2023-03-21T05:47:17.463000",
     "status": "completed"
    },
    "tags": []
   },
   "source": [
    "For a hint or the solution, uncomment the appropriate line below."
   ]
  },
  {
   "cell_type": "code",
   "execution_count": 11,
   "id": "76fec854",
   "metadata": {
    "execution": {
     "iopub.execute_input": "2023-03-21T05:47:17.488147Z",
     "iopub.status.busy": "2023-03-21T05:47:17.487703Z",
     "iopub.status.idle": "2023-03-21T05:47:17.496189Z",
     "shell.execute_reply": "2023-03-21T05:47:17.495060Z"
    },
    "papermill": {
     "duration": 0.01997,
     "end_time": "2023-03-21T05:47:17.498426",
     "exception": false,
     "start_time": "2023-03-21T05:47:17.478456",
     "status": "completed"
    },
    "tags": []
   },
   "outputs": [
    {
     "data": {
      "application/javascript": [
       "parent.postMessage({\"jupyterEvent\": \"custom.exercise_interaction\", \"data\": {\"interactionType\": 3, \"questionType\": 2, \"questionId\": \"3_IdentifyFieldsForPlotting\", \"learnToolsVersion\": \"0.3.4\", \"valueTowardsCompletion\": 0.0, \"failureMessage\": \"\", \"exceptionClass\": \"\", \"trace\": \"\", \"outcomeType\": 4}}, \"*\")"
      ],
      "text/plain": [
       "<IPython.core.display.Javascript object>"
      ]
     },
     "metadata": {},
     "output_type": "display_data"
    },
    {
     "data": {
      "text/markdown": [
       "<span style=\"color:#33cc99\">Solution:</span> \n",
       "```python\n",
       "fields_for_plotting = ['latitude', 'longitude']\n",
       "```"
      ],
      "text/plain": [
       "Solution: \n",
       "```python\n",
       "fields_for_plotting = ['latitude', 'longitude']\n",
       "```"
      ]
     },
     "metadata": {},
     "output_type": "display_data"
    }
   ],
   "source": [
    "#q_3.hint()\n",
    "q_3.solution()"
   ]
  },
  {
   "cell_type": "markdown",
   "id": "17e249de",
   "metadata": {
    "papermill": {
     "duration": 0.007649,
     "end_time": "2023-03-21T05:47:17.514151",
     "exception": false,
     "start_time": "2023-03-21T05:47:17.506502",
     "status": "completed"
    },
    "tags": []
   },
   "source": [
    "Thinking about the question above, there are a few columns that appear to have geographic data. Look at a few values (with the `list_rows()` command) to see if you can determine their relationship.  Two columns will still be hard to interpret. But it should be obvious how the `location` column relates to `latitude` and `longitude`."
   ]
  },
  {
   "cell_type": "code",
   "execution_count": 12,
   "id": "f5189641",
   "metadata": {
    "execution": {
     "iopub.execute_input": "2023-03-21T05:47:17.531932Z",
     "iopub.status.busy": "2023-03-21T05:47:17.531501Z",
     "iopub.status.idle": "2023-03-21T05:47:17.536360Z",
     "shell.execute_reply": "2023-03-21T05:47:17.535206Z"
    },
    "papermill": {
     "duration": 0.016471,
     "end_time": "2023-03-21T05:47:17.538566",
     "exception": false,
     "start_time": "2023-03-21T05:47:17.522095",
     "status": "completed"
    },
    "tags": []
   },
   "outputs": [],
   "source": [
    "# Scratch space for your code"
   ]
  },
  {
   "cell_type": "markdown",
   "id": "f836e85a",
   "metadata": {
    "papermill": {
     "duration": 0.007755,
     "end_time": "2023-03-21T05:47:17.554373",
     "exception": false,
     "start_time": "2023-03-21T05:47:17.546618",
     "status": "completed"
    },
    "tags": []
   },
   "source": [
    "# Keep going\n",
    "\n",
    "You've looked at the schema, but you haven't yet done anything exciting with the data itself. Things get more interesting when you get to the data, so keep going to **[write your first SQL query](https://www.kaggle.com/dansbecker/select-from-where).**"
   ]
  },
  {
   "cell_type": "markdown",
   "id": "cd3d029a",
   "metadata": {
    "papermill": {
     "duration": 0.007789,
     "end_time": "2023-03-21T05:47:17.570327",
     "exception": false,
     "start_time": "2023-03-21T05:47:17.562538",
     "status": "completed"
    },
    "tags": []
   },
   "source": [
    "---\n",
    "\n",
    "\n",
    "\n",
    "\n",
    "*Have questions or comments? Visit the [course discussion forum](https://www.kaggle.com/learn/intro-to-sql/discussion) to chat with other learners.*"
   ]
  }
 ],
 "metadata": {
  "kernelspec": {
   "display_name": "Python 3",
   "language": "python",
   "name": "python3"
  },
  "language_info": {
   "codemirror_mode": {
    "name": "ipython",
    "version": 3
   },
   "file_extension": ".py",
   "mimetype": "text/x-python",
   "name": "python",
   "nbconvert_exporter": "python",
   "pygments_lexer": "ipython3",
   "version": "3.7.12"
  },
  "papermill": {
   "default_parameters": {},
   "duration": 14.969624,
   "end_time": "2023-03-21T05:47:18.200100",
   "environment_variables": {},
   "exception": null,
   "input_path": "__notebook__.ipynb",
   "output_path": "__notebook__.ipynb",
   "parameters": {},
   "start_time": "2023-03-21T05:47:03.230476",
   "version": "2.4.0"
  }
 },
 "nbformat": 4,
 "nbformat_minor": 5
}
